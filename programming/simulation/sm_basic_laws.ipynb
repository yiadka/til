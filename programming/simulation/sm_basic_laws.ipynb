{
 "cells": [
  {
   "cell_type": "code",
   "execution_count": 4,
   "metadata": {},
   "outputs": [],
   "source": [
    "import numpy as np\n",
    "import matplotlib.pyplot as plt\n",
    "import scipy as sp\n",
    "import scipy.stats as stats"
   ]
  },
  {
   "cell_type": "code",
   "execution_count": 5,
   "metadata": {},
   "outputs": [],
   "source": [
    "nsample = 1000\n",
    "x = np.zeros((4, 2, nsample))\n",
    "for k in range(nsample):\n",
    "    x[0, 0, k] = stats.uniform.rvs(loc=0, scale=2, size=1)\n",
    "    x[1, 0, k] = stats.norm.rvs(loc=2, scale=1, size=1)\n",
    "    x[2, 0, k] = stats.binom.rvs(n=10, p=0.3, size=1)\n",
    "    x[3, 0, k] = stats.poisson.rvs(mu=4, size=1)\n",
    "    for i in range(4):\n",
    "        if k >= 1:\n",
    "            x[i, 1, k] = np.mean(x[i, 0, 0:k])"
   ]
  },
  {
   "cell_type": "code",
   "execution_count": null,
   "metadata": {},
   "outputs": [],
   "source": []
  }
 ],
 "metadata": {
  "kernelspec": {
   "display_name": "Python 3",
   "language": "python",
   "name": "python3"
  },
  "language_info": {
   "codemirror_mode": {
    "name": "ipython",
    "version": 3
   },
   "file_extension": ".py",
   "mimetype": "text/x-python",
   "name": "python",
   "nbconvert_exporter": "python",
   "pygments_lexer": "ipython3",
   "version": "3.8.13"
  }
 },
 "nbformat": 4,
 "nbformat_minor": 2
}
